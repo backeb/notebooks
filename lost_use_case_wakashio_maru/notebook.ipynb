{
 "cells": [
  {
   "cell_type": "markdown",
   "metadata": {},
   "source": [
    "# create or update environment dependencies"
   ]
  },
  {
   "cell_type": "code",
   "execution_count": null,
   "metadata": {
    "vscode": {
     "languageId": "shellscript"
    }
   },
   "outputs": [],
   "source": [
    "#!conda env create -f environment.yaml\n",
    "#!conda env update --name lost --file environment.yaml --prune"
   ]
  },
  {
   "cell_type": "markdown",
   "metadata": {},
   "source": [
    "# import libraries"
   ]
  },
  {
   "cell_type": "code",
   "execution_count": null,
   "metadata": {},
   "outputs": [],
   "source": [
    "import sys\n",
    "import xarray as xr\n",
    "import pandas as pd\n",
    "import numpy as np\n",
    "import scipy\n",
    "import matplotlib.pyplot as plt"
   ]
  },
  {
   "cell_type": "markdown",
   "metadata": {},
   "source": [
    "# get ERA5 data"
   ]
  },
  {
   "cell_type": "code",
   "execution_count": null,
   "metadata": {},
   "outputs": [],
   "source": [
    "sys.path.append('/Users/backeb/Documents/repos/myscripts/era5')\n",
    "from download_era5 import get_era5_single_levels\n",
    "\n",
    "\n",
    "get_era5_single_levels( \n",
    "    longitude_min = 45.0,\n",
    "    longitude_max = 65.0,\n",
    "    latitude_min = -50.0,\n",
    "    latitude_max = -30.0,\n",
    "    date_min = '2021-05-15',\n",
    "    date_max = '2021-06-15',\n",
    "    vars = ('10m_u_component_of_wind', '10m_v_component_of_wind'),\n",
    "    outdir = '/Users/backeb/Documents/data/lost_use_case_wakashio_maru'\n",
    ")"
   ]
  },
  {
   "cell_type": "code",
   "execution_count": null,
   "metadata": {},
   "outputs": [],
   "source": [
    "ds = xr.open_dataset('/Users/backeb/Documents/data/lost_use_case_wakashio_maru/era5/era5.nc')\n",
    "ds.latitude.data[-1:0:-1]"
   ]
  },
  {
   "cell_type": "markdown",
   "metadata": {},
   "source": [
    "# get CMEMS data"
   ]
  },
  {
   "cell_type": "code",
   "execution_count": null,
   "metadata": {},
   "outputs": [],
   "source": [
    "sys.path.append('/Users/backeb/Documents/repos/myscripts/cmems')\n",
    "from download_cmems_physics import get_nrt_hourly\n",
    "\n",
    "get_nrt_hourly(  \n",
    "    username = 'bbackeberg', \n",
    "    password = 'iaTmwJ7D', \n",
    "    longitude_min = 45.0,\n",
    "    longitude_max = 65.0,\n",
    "    latitude_min = -50.0,\n",
    "    latitude_max = -30.0,\n",
    "    date_min = '2021-05-15',\n",
    "    date_max = '2021-06-15',\n",
    "    vars = ('uo', 'vo'),\n",
    "    outdir = '/Users/backeb/Documents/data/lost_use_case_wakashio_maru'\n",
    ")"
   ]
  },
  {
   "cell_type": "code",
   "execution_count": null,
   "metadata": {},
   "outputs": [],
   "source": [
    "# ds = xr.open_dataset('/Users/backeb/Documents/data/lost_use_case_wakashio_maru/cmems/cmems.nc')\n",
    "# ds.time.data"
   ]
  },
  {
   "cell_type": "markdown",
   "metadata": {},
   "source": [
    "# interpolate to consistent timestamp"
   ]
  },
  {
   "cell_type": "code",
   "execution_count": null,
   "metadata": {},
   "outputs": [],
   "source": [
    "ds_cmems = xr.open_dataset('/Users/backeb/Documents/data/lost_use_case_wakashio_maru/cmems/cmems.nc')\n",
    "ds_era5 = xr.open_dataset('/Users/backeb/Documents/data/lost_use_case_wakashio_maru/era5/era5.nc')\n",
    "ds_cmems_interp = ds_cmems.interp(time = ds_era5.time)\n",
    "\n"
   ]
  },
  {
   "cell_type": "markdown",
   "metadata": {},
   "source": [
    "# check interpolation"
   ]
  },
  {
   "cell_type": "code",
   "execution_count": null,
   "metadata": {},
   "outputs": [],
   "source": [
    "i=-1\n",
    "f, (ax1, ax2, ax3) = plt.subplots(3, 1, figsize=(5, 8), sharex=True)\n",
    "ds_cmems.uo[i,0,:,:].plot(ax=ax1)\n",
    "ax1.set_xlabel('')\n",
    "ds_cmems_interp.uo[i,0,:,:].plot(ax=ax2)\n",
    "ax2.set_xlabel('')\n",
    "(ds_cmems.uo[i,0,:,:]-ds_cmems_interp.uo[i,0,:,:]).plot(ax=ax3)\n",
    "ax3.set_title('difference')"
   ]
  },
  {
   "cell_type": "markdown",
   "metadata": {},
   "source": [
    "# write to new netcdf"
   ]
  },
  {
   "cell_type": "code",
   "execution_count": null,
   "metadata": {},
   "outputs": [],
   "source": [
    "ds_cmems_interp.to_netcdf('/Users/backeb/Documents/data/lost_use_case_wakashio_maru/cmems/cmems_interp.nc')"
   ]
  },
  {
   "cell_type": "code",
   "execution_count": null,
   "metadata": {},
   "outputs": [],
   "source": [
    "ds_cmems_interp"
   ]
  },
  {
   "cell_type": "code",
   "execution_count": null,
   "metadata": {},
   "outputs": [],
   "source": []
  }
 ],
 "metadata": {
  "kernelspec": {
   "display_name": "Python 3.8.13 ('lost')",
   "language": "python",
   "name": "python3"
  },
  "language_info": {
   "codemirror_mode": {
    "name": "ipython",
    "version": 3
   },
   "file_extension": ".py",
   "mimetype": "text/x-python",
   "name": "python",
   "nbconvert_exporter": "python",
   "pygments_lexer": "ipython3",
   "version": "3.8.13"
  },
  "orig_nbformat": 4,
  "vscode": {
   "interpreter": {
    "hash": "9e47a7bf3dcac0653ebc26589cee2089a6746d3c134daf467162e3085fc1285c"
   }
  }
 },
 "nbformat": 4,
 "nbformat_minor": 2
}
