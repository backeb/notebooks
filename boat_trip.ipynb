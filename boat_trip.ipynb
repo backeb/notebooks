{
 "cells": [
  {
   "cell_type": "code",
   "execution_count": 3,
   "metadata": {},
   "outputs": [],
   "source": [
    "import folium\n",
    "\n",
    "# list of town coordinates in the format (latitude, longitude)\n",
    "towns_coords = {\n",
    "    'Loosdrecht': [52.2060, 5.1029],\n",
    "    'Utrecht': [52.0907, 5.1214],\n",
    "    'Oudewater': [52.0259, 4.8719],\n",
    "    'Gouda': [52.0115, 4.7105],\n",
    "    'Woerden': [52.0865, 4.9185],\n",
    "    'Uithoorn': [52.2375, 4.8264],\n",
    "    'Ouderkerk aan de Amstel': [52.2947, 4.9136],\n",
    "    'Amsterdam': [52.3676, 4.9041],\n",
    "    'Weesp': [52.3086, 5.0414],\n",
    "}\n",
    "\n",
    "# initializing map with a starting location\n",
    "m = folium.Map(location=[52.1326, 5.2913], zoom_start=7)\n",
    "\n",
    "# adding towns to the map\n",
    "for town, coords in towns_coords.items():\n",
    "    folium.Marker(location=coords, popup=town).add_to(m)\n",
    "\n",
    "# save it to a file\n",
    "m.save('dutch_canal_towns.html')\n"
   ]
  },
  {
   "cell_type": "code",
   "execution_count": 4,
   "metadata": {},
   "outputs": [],
   "source": [
    "import requests\n",
    "import json\n",
    "\n",
    "overpass_url = \"http://overpass-api.de/api/interpreter\"\n",
    "overpass_query = \"\"\"\n",
    "[out:json];\n",
    "area[\"ISO3166-1\"=\"NL\"][admin_level=2];\n",
    "(node[\"waterway\"=\"canal\"](area);\n",
    " way[\"waterway\"=\"canal\"](area);\n",
    " rel[\"waterway\"=\"canal\"](area);\n",
    ");\n",
    "out center;\n",
    "\"\"\"\n",
    "response = requests.get(overpass_url, params={'data': overpass_query})\n",
    "data = response.json()\n"
   ]
  },
  {
   "cell_type": "code",
   "execution_count": 6,
   "metadata": {},
   "outputs": [],
   "source": [
    "import geopandas as gpd\n",
    "from shapely.geometry import Point\n",
    "\n",
    "# convert the json to geodataframe\n",
    "geometries = []\n",
    "for element in data['elements']:\n",
    "    if element['type'] == 'node':\n",
    "        geometries.append(Point(element['lon'], element['lat']))\n",
    "    elif 'center' in element:\n",
    "        geometries.append(Point(element['center']['lon'], element['center']['lat']))\n",
    "\n",
    "gdf_canals = gpd.GeoDataFrame(geometry=geometries, crs='EPSG:4326')\n"
   ]
  },
  {
   "cell_type": "code",
   "execution_count": 8,
   "metadata": {},
   "outputs": [],
   "source": [
    "import geopy\n",
    "\n",
    "towns = ['Loosdrecht', 'Utrecht', 'Oudewater', 'Gouda', 'Woerden', 'Uithoorn', 'Ouderkerk aan de Amstel', 'Amsterdam', 'Weesp']\n",
    "geolocator = geopy.Nominatim(user_agent=\"your_app_name\")\n",
    "\n",
    "town_points = []\n",
    "for town in towns:\n",
    "    location = geolocator.geocode(town)\n",
    "    town_points.append(Point(location.longitude, location.latitude))\n",
    "\n",
    "gdf_towns = gpd.GeoDataFrame(geometry=town_points, crs='EPSG:4326')\n"
   ]
  },
  {
   "cell_type": "code",
   "execution_count": 9,
   "metadata": {},
   "outputs": [],
   "source": [
    "import folium\n",
    "\n",
    "m = folium.Map(location=[52.3667, 4.8945], zoom_start=7)\n",
    "\n",
    "for idx, row in gdf_canals.iterrows():\n",
    "    folium.GeoJson(row.geometry).add_to(m)\n",
    "\n",
    "for idx, row in gdf_towns.iterrows():\n",
    "    folium.Marker([row.geometry.y, row.geometry.x]).add_to(m)\n",
    "\n",
    "m.save(\"map.html\")\n"
   ]
  },
  {
   "cell_type": "code",
   "execution_count": null,
   "metadata": {},
   "outputs": [],
   "source": []
  }
 ],
 "metadata": {
  "kernelspec": {
   "display_name": "base",
   "language": "python",
   "name": "python3"
  },
  "language_info": {
   "codemirror_mode": {
    "name": "ipython",
    "version": 3
   },
   "file_extension": ".py",
   "mimetype": "text/x-python",
   "name": "python",
   "nbconvert_exporter": "python",
   "pygments_lexer": "ipython3",
   "version": "3.10.10"
  },
  "orig_nbformat": 4
 },
 "nbformat": 4,
 "nbformat_minor": 2
}
