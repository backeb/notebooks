{
 "cells": [
  {
   "cell_type": "markdown",
   "metadata": {},
   "source": [
    "# Example Notebook for ERA5 data\n",
    "Author(s): [Bjorn Backeberg](mailto:backeb@gmail.com) (backeb) <br> \n",
    "Creation date: 16-Jul-2019 <br>\n",
    "Last updated:  17-Jul-2019 <br>\n",
    "\n",
    "---\n",
    "\n",
    "## Purpose\n",
    "1. Load monthly rainfall and temperature ERA5 netcdf data for user defined location, data can be downloaded [here](https://cds.climate.copernicus.eu/cdsapp#!/dataset/reanalysis-era5-single-levels-monthly-means?tab=overview)\n",
    "2. Calculate annual anomaly\n",
    "3. Plot as warming stripes (https://en.wikipedia.org/wiki/Warming_stripes)\n"
   ]
  },
  {
   "cell_type": "markdown",
   "metadata": {},
   "source": [
    "### Import necessary libraries"
   ]
  },
  {
   "cell_type": "code",
   "execution_count": 34,
   "metadata": {
    "ExecuteTime": {
     "end_time": "2019-07-17T08:38:14.804922Z",
     "start_time": "2019-07-17T08:38:14.801605Z"
    }
   },
   "outputs": [],
   "source": [
    "import xarray as xr\n",
    "import numpy as np\n",
    "import matplotlib.pyplot as plt\n",
    "import pandas as pd"
   ]
  },
  {
   "cell_type": "markdown",
   "metadata": {},
   "source": [
    "### User input\n",
    "In the below cell, define the longitude (positive, decimal degrees East) and latitude (positive, decimal degrees North) for the location you wish to plot the warming stripes."
   ]
  },
  {
   "cell_type": "code",
   "execution_count": 95,
   "metadata": {
    "ExecuteTime": {
     "end_time": "2019-07-17T09:19:46.621841Z",
     "start_time": "2019-07-17T09:19:46.618810Z"
    }
   },
   "outputs": [],
   "source": [
    "lon_in = 18.452758\n",
    "lat_in = -33.928570"
   ]
  },
  {
   "cell_type": "markdown",
   "metadata": {},
   "source": [
    "### Load dataset as a pandas dataframe"
   ]
  },
  {
   "cell_type": "code",
   "execution_count": 138,
   "metadata": {
    "ExecuteTime": {
     "end_time": "2019-07-17T11:08:25.629999Z",
     "start_time": "2019-07-17T11:08:25.603832Z"
    }
   },
   "outputs": [
    {
     "data": {
      "text/html": [
       "<div>\n",
       "<style scoped>\n",
       "    .dataframe tbody tr th:only-of-type {\n",
       "        vertical-align: middle;\n",
       "    }\n",
       "\n",
       "    .dataframe tbody tr th {\n",
       "        vertical-align: top;\n",
       "    }\n",
       "\n",
       "    .dataframe thead th {\n",
       "        text-align: right;\n",
       "    }\n",
       "</style>\n",
       "<table border=\"1\" class=\"dataframe\">\n",
       "  <thead>\n",
       "    <tr style=\"text-align: right;\">\n",
       "      <th></th>\n",
       "      <th>longitude</th>\n",
       "      <th>latitude</th>\n",
       "      <th>t2m</th>\n",
       "      <th>tp</th>\n",
       "    </tr>\n",
       "    <tr>\n",
       "      <th>time</th>\n",
       "      <th></th>\n",
       "      <th></th>\n",
       "      <th></th>\n",
       "      <th></th>\n",
       "    </tr>\n",
       "  </thead>\n",
       "  <tbody>\n",
       "    <tr>\n",
       "      <th>2018-07-01</th>\n",
       "      <td>18.5</td>\n",
       "      <td>-34.0</td>\n",
       "      <td>287.676270</td>\n",
       "      <td>0.002110</td>\n",
       "    </tr>\n",
       "    <tr>\n",
       "      <th>2018-08-01</th>\n",
       "      <td>18.5</td>\n",
       "      <td>-34.0</td>\n",
       "      <td>285.987122</td>\n",
       "      <td>0.002221</td>\n",
       "    </tr>\n",
       "    <tr>\n",
       "      <th>2018-09-01</th>\n",
       "      <td>18.5</td>\n",
       "      <td>-34.0</td>\n",
       "      <td>286.960419</td>\n",
       "      <td>0.002563</td>\n",
       "    </tr>\n",
       "    <tr>\n",
       "      <th>2018-10-01</th>\n",
       "      <td>18.5</td>\n",
       "      <td>-34.0</td>\n",
       "      <td>290.492096</td>\n",
       "      <td>0.000434</td>\n",
       "    </tr>\n",
       "    <tr>\n",
       "      <th>2018-11-01</th>\n",
       "      <td>18.5</td>\n",
       "      <td>-34.0</td>\n",
       "      <td>290.425110</td>\n",
       "      <td>0.000523</td>\n",
       "    </tr>\n",
       "    <tr>\n",
       "      <th>2018-12-01</th>\n",
       "      <td>18.5</td>\n",
       "      <td>-34.0</td>\n",
       "      <td>292.415741</td>\n",
       "      <td>0.001323</td>\n",
       "    </tr>\n",
       "    <tr>\n",
       "      <th>2019-01-01</th>\n",
       "      <td>18.5</td>\n",
       "      <td>-34.0</td>\n",
       "      <td>292.849487</td>\n",
       "      <td>0.000547</td>\n",
       "    </tr>\n",
       "    <tr>\n",
       "      <th>2019-02-01</th>\n",
       "      <td>18.5</td>\n",
       "      <td>-34.0</td>\n",
       "      <td>292.960571</td>\n",
       "      <td>0.000358</td>\n",
       "    </tr>\n",
       "    <tr>\n",
       "      <th>2019-03-01</th>\n",
       "      <td>18.5</td>\n",
       "      <td>-34.0</td>\n",
       "      <td>291.624084</td>\n",
       "      <td>0.000924</td>\n",
       "    </tr>\n",
       "    <tr>\n",
       "      <th>2019-04-01</th>\n",
       "      <td>18.5</td>\n",
       "      <td>-34.0</td>\n",
       "      <td>289.779785</td>\n",
       "      <td>0.000804</td>\n",
       "    </tr>\n",
       "  </tbody>\n",
       "</table>\n",
       "</div>"
      ],
      "text/plain": [
       "            longitude  latitude         t2m        tp\n",
       "time                                                 \n",
       "2018-07-01       18.5     -34.0  287.676270  0.002110\n",
       "2018-08-01       18.5     -34.0  285.987122  0.002221\n",
       "2018-09-01       18.5     -34.0  286.960419  0.002563\n",
       "2018-10-01       18.5     -34.0  290.492096  0.000434\n",
       "2018-11-01       18.5     -34.0  290.425110  0.000523\n",
       "2018-12-01       18.5     -34.0  292.415741  0.001323\n",
       "2019-01-01       18.5     -34.0  292.849487  0.000547\n",
       "2019-02-01       18.5     -34.0  292.960571  0.000358\n",
       "2019-03-01       18.5     -34.0  291.624084  0.000924\n",
       "2019-04-01       18.5     -34.0  289.779785  0.000804"
      ]
     },
     "execution_count": 138,
     "metadata": {},
     "output_type": "execute_result"
    }
   ],
   "source": [
    "# open dataset for nearest user defined location\n",
    "ds = xr.open_dataset('data/ERA5_rainfall_and_temperature.nc').sel(longitude = lon_in, \n",
    "                                                                  latitude = lat_in,\n",
    "                                                                  method = 'nearest')\n",
    "# convert to pandas dataframe\n",
    "df = ds.to_dataframe()\n",
    "\n",
    "# display the last 10 rows of the dataframe\n",
    "df[-10:]"
   ]
  },
  {
   "cell_type": "markdown",
   "metadata": {},
   "source": [
    "### Exercise 1: Calculate annual anomaly\n",
    "There is a problem with the anomaly calculation below. Fix it. <br>\n",
    "<br>\n",
    "Hints:\n",
    "1. Have a look at the monthly data for 2019\n",
    "2. Check out [this](https://stackoverflow.com/questions/13851535/delete-rows-from-a-pandas-dataframe-based-on-a-conditional-expression-involving) possible solution"
   ]
  },
  {
   "cell_type": "code",
   "execution_count": null,
   "metadata": {},
   "outputs": [],
   "source": [
    "# solution to exercise 1\n",
    "df = df.drop(df[df.index.year >= 2019].index)"
   ]
  },
  {
   "cell_type": "code",
   "execution_count": 148,
   "metadata": {
    "ExecuteTime": {
     "end_time": "2019-07-17T11:13:14.000545Z",
     "start_time": "2019-07-17T11:13:13.977592Z"
    }
   },
   "outputs": [
    {
     "data": {
      "text/html": [
       "<div>\n",
       "<style scoped>\n",
       "    .dataframe tbody tr th:only-of-type {\n",
       "        vertical-align: middle;\n",
       "    }\n",
       "\n",
       "    .dataframe tbody tr th {\n",
       "        vertical-align: top;\n",
       "    }\n",
       "\n",
       "    .dataframe thead th {\n",
       "        text-align: right;\n",
       "    }\n",
       "</style>\n",
       "<table border=\"1\" class=\"dataframe\">\n",
       "  <thead>\n",
       "    <tr style=\"text-align: right;\">\n",
       "      <th></th>\n",
       "      <th>longitude</th>\n",
       "      <th>latitude</th>\n",
       "      <th>t2m</th>\n",
       "      <th>tp</th>\n",
       "    </tr>\n",
       "    <tr>\n",
       "      <th>time</th>\n",
       "      <th></th>\n",
       "      <th></th>\n",
       "      <th></th>\n",
       "      <th></th>\n",
       "    </tr>\n",
       "  </thead>\n",
       "  <tbody>\n",
       "    <tr>\n",
       "      <th>2009</th>\n",
       "      <td>18.5</td>\n",
       "      <td>-34.0</td>\n",
       "      <td>0.252167</td>\n",
       "      <td>0.000133</td>\n",
       "    </tr>\n",
       "    <tr>\n",
       "      <th>2010</th>\n",
       "      <td>18.5</td>\n",
       "      <td>-34.0</td>\n",
       "      <td>0.037506</td>\n",
       "      <td>-0.000297</td>\n",
       "    </tr>\n",
       "    <tr>\n",
       "      <th>2011</th>\n",
       "      <td>18.5</td>\n",
       "      <td>-34.0</td>\n",
       "      <td>0.011475</td>\n",
       "      <td>-0.000343</td>\n",
       "    </tr>\n",
       "    <tr>\n",
       "      <th>2012</th>\n",
       "      <td>18.5</td>\n",
       "      <td>-34.0</td>\n",
       "      <td>0.117126</td>\n",
       "      <td>0.000080</td>\n",
       "    </tr>\n",
       "    <tr>\n",
       "      <th>2013</th>\n",
       "      <td>18.5</td>\n",
       "      <td>-34.0</td>\n",
       "      <td>0.113617</td>\n",
       "      <td>0.000649</td>\n",
       "    </tr>\n",
       "    <tr>\n",
       "      <th>2014</th>\n",
       "      <td>18.5</td>\n",
       "      <td>-34.0</td>\n",
       "      <td>0.441406</td>\n",
       "      <td>0.000028</td>\n",
       "    </tr>\n",
       "    <tr>\n",
       "      <th>2015</th>\n",
       "      <td>18.5</td>\n",
       "      <td>-34.0</td>\n",
       "      <td>0.270538</td>\n",
       "      <td>-0.000429</td>\n",
       "    </tr>\n",
       "    <tr>\n",
       "      <th>2016</th>\n",
       "      <td>18.5</td>\n",
       "      <td>-34.0</td>\n",
       "      <td>0.481659</td>\n",
       "      <td>-0.000317</td>\n",
       "    </tr>\n",
       "    <tr>\n",
       "      <th>2017</th>\n",
       "      <td>18.5</td>\n",
       "      <td>-34.0</td>\n",
       "      <td>0.222046</td>\n",
       "      <td>-0.000533</td>\n",
       "    </tr>\n",
       "    <tr>\n",
       "      <th>2018</th>\n",
       "      <td>18.5</td>\n",
       "      <td>-34.0</td>\n",
       "      <td>0.332520</td>\n",
       "      <td>-0.000080</td>\n",
       "    </tr>\n",
       "  </tbody>\n",
       "</table>\n",
       "</div>"
      ],
      "text/plain": [
       "      longitude  latitude       t2m        tp\n",
       "time                                         \n",
       "2009       18.5     -34.0  0.252167  0.000133\n",
       "2010       18.5     -34.0  0.037506 -0.000297\n",
       "2011       18.5     -34.0  0.011475 -0.000343\n",
       "2012       18.5     -34.0  0.117126  0.000080\n",
       "2013       18.5     -34.0  0.113617  0.000649\n",
       "2014       18.5     -34.0  0.441406  0.000028\n",
       "2015       18.5     -34.0  0.270538 -0.000429\n",
       "2016       18.5     -34.0  0.481659 -0.000317\n",
       "2017       18.5     -34.0  0.222046 -0.000533\n",
       "2018       18.5     -34.0  0.332520 -0.000080"
      ]
     },
     "execution_count": 148,
     "metadata": {},
     "output_type": "execute_result"
    }
   ],
   "source": [
    "# calculate the monthly mean values\n",
    "anomaly = df.groupby([df.index.year]).mean()\n",
    "\n",
    "# subtract the long term mean from the monthly mean values for temperature and rainfall\n",
    "anomaly['t2m'] = anomaly['t2m'] - df['t2m'].mean()\n",
    "anomaly['tp'] = anomaly['tp'] - df['tp'].mean()\n",
    "\n",
    "# display the first 10 rows of the result\n",
    "anomaly[-10:]"
   ]
  },
  {
   "cell_type": "markdown",
   "metadata": {},
   "source": [
    "### Create temperature stack to plot as stripes"
   ]
  },
  {
   "cell_type": "code",
   "execution_count": 149,
   "metadata": {
    "ExecuteTime": {
     "end_time": "2019-07-17T11:13:20.012965Z",
     "start_time": "2019-07-17T11:13:20.009166Z"
    }
   },
   "outputs": [
    {
     "name": "stdout",
     "output_type": "stream",
     "text": [
      "(40,)\n",
      "(2, 40)\n"
     ]
    }
   ],
   "source": [
    "temperature = anomaly['t2m'].values\n",
    "stack = np.stack((temperature, temperature))\n",
    "\n",
    "# print shapes to see what you've done\n",
    "print(temperature.shape)\n",
    "print(stack.shape)"
   ]
  },
  {
   "cell_type": "markdown",
   "metadata": {},
   "source": [
    "### Plot the warming stripes"
   ]
  },
  {
   "cell_type": "code",
   "execution_count": 152,
   "metadata": {
    "ExecuteTime": {
     "end_time": "2019-07-17T11:16:04.110915Z",
     "start_time": "2019-07-17T11:16:03.982862Z"
    }
   },
   "outputs": [
    {
     "data": {
      "image/png": "[encoded data removed]",
      "text/plain": [
       "<Figure size 576x2880 with 1 Axes>"
      ]
     },
     "metadata": {},
     "output_type": "display_data"
    }
   ],
   "source": [
    "vmin = temperature.min()\n",
    "vmax = temperature.max()\n",
    "## plotting\n",
    "###############\n",
    "plt.figure(figsize=(8,40))\n",
    "# img = plt.imshow(stack, cmap='RdBu_r', aspect=20, vmin=vmin, vmax=vmax)\n",
    "img = plt.imshow(stack, cmap='RdBu_r', aspect=10, )\n",
    "\n",
    "plt.gca().set_axis_off()\n",
    "plt.subplots_adjust(top = 1, bottom = 0, right = 1, left = 0,\n",
    "            hspace = 0, wspace = 0)\n",
    "plt.margins(0,0)\n",
    "plt.gca().xaxis.set_major_locator(plt.NullLocator())\n",
    "plt.gca().yaxis.set_major_locator(plt.NullLocator())\n",
    "#plt.savefig(\"stripes.png\", bbox_inches = 'tight', pad_inches = 0, dpi=400)"
   ]
  },
  {
   "cell_type": "markdown",
   "metadata": {},
   "source": [
    "### Exercise 2: Plot the warming stripes for rainfall (variable name = tp) "
   ]
  },
  {
   "cell_type": "code",
   "execution_count": null,
   "metadata": {},
   "outputs": [],
   "source": []
  }
 ],
 "metadata": {
  "kernelspec": {
   "display_name": "Python 3",
   "language": "python",
   "name": "python3"
  },
  "language_info": {
   "codemirror_mode": {
    "name": "ipython",
    "version": 3
   },
   "file_extension": ".py",
   "mimetype": "text/x-python",
   "name": "python",
   "nbconvert_exporter": "python",
   "pygments_lexer": "ipython3",
   "version": "3.7.1"
  }
 },
 "nbformat": 4,
 "nbformat_minor": 2
}
