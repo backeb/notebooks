{
 "cells": [
  {
   "cell_type": "markdown",
   "metadata": {},
   "source": [
    "# Example Notebook for ERA5 data\n",
    "Author(s): [Bjorn Backeberg](mailto:backeb@gmail.com) (backeb) <br> \n",
    "Creation date: 16-Jul-2019 <br>\n",
    "Last updated:  17-Jul-2019 <br>\n",
    "\n",
    "---\n",
    "\n",
    "## Purpose\n",
    "1. Load monthly rainfall and temperature ERA5 netcdf data for user defined location, data can be downloaded [here](https://cds.climate.copernicus.eu/cdsapp#!/dataset/reanalysis-era5-single-levels-monthly-means?tab=overview)\n",
    "2. Calculate annual anomaly\n",
    "3. Plot as warming stripes (https://en.wikipedia.org/wiki/Warming_stripes)\n"
   ]
  },
  {
   "cell_type": "markdown",
   "metadata": {},
   "source": [
    "### Import necessary libraries"
   ]
  },
  {
   "cell_type": "code",
   "execution_count": 1,
   "metadata": {
    "ExecuteTime": {
     "end_time": "2019-07-30T07:58:01.801624Z",
     "start_time": "2019-07-30T07:58:00.735554Z"
    }
   },
   "outputs": [],
   "source": [
    "import xarray as xr\n",
    "import numpy as np\n",
    "import matplotlib.pyplot as plt"
   ]
  },
  {
   "cell_type": "markdown",
   "metadata": {},
   "source": [
    "### User input\n",
    "In the below cell, define the longitude (positive, decimal degrees East) and latitude (positive, decimal degrees North) for the location you wish to plot the warming stripes."
   ]
  },
  {
   "cell_type": "code",
   "execution_count": 2,
   "metadata": {
    "ExecuteTime": {
     "end_time": "2019-07-30T07:58:01.833943Z",
     "start_time": "2019-07-30T07:58:01.831337Z"
    }
   },
   "outputs": [],
   "source": [
    "lon_in = 18.452758\n",
    "lat_in = -33.928570"
   ]
  },
  {
   "cell_type": "markdown",
   "metadata": {},
   "source": [
    "### Load dataset as a dataframe"
   ]
  },
  {
   "cell_type": "code",
   "execution_count": 9,
   "metadata": {
    "ExecuteTime": {
     "end_time": "2019-07-30T08:09:11.260277Z",
     "start_time": "2019-07-30T08:09:11.239952Z"
    }
   },
   "outputs": [
    {
     "name": "stdout",
     "output_type": "stream",
     "text": [
      "CPU times: user 11.6 ms, sys: 4.21 ms, total: 15.8 ms\n",
      "Wall time: 16.4 ms\n"
     ]
    }
   ],
   "source": [
    "# open dataset for nearest user defined location\n",
    "ds = xr.open_dataset('data/ERA5_temperature.nc').sel(longitude = lon_in, \n",
    "                                                                 latitude = lat_in,\n",
    "                                                                 method = 'nearest')\n",
    "# convert to pandas dataframe\n",
    "df = ds.to_dataframe()\n",
    "\n",
    "# display the last 10 rows of the dataframe\n",
    "df[-10:]"
   ]
  },
  {
   "cell_type": "markdown",
   "metadata": {},
   "source": [
    "### Exercise 1: Calculate annual anomaly\n",
    "There is a problem with the anomaly calculation below. Fix it. <br>\n",
    "<br>\n",
    "Hints:\n",
    "1. Have a look at the monthly data for 2019\n",
    "2. Check out [this](https://stackoverflow.com/questions/13851535/delete-rows-from-a-pandas-dataframe-based-on-a-conditional-expression-involving) possible solution"
   ]
  },
  {
   "cell_type": "code",
   "execution_count": 4,
   "metadata": {
    "ExecuteTime": {
     "end_time": "2019-07-30T07:58:14.341396Z",
     "start_time": "2019-07-30T07:58:14.320934Z"
    }
   },
   "outputs": [
    {
     "data": {
      "text/html": [
       "<div>\n",
       "<style scoped>\n",
       "    .dataframe tbody tr th:only-of-type {\n",
       "        vertical-align: middle;\n",
       "    }\n",
       "\n",
       "    .dataframe tbody tr th {\n",
       "        vertical-align: top;\n",
       "    }\n",
       "\n",
       "    .dataframe thead th {\n",
       "        text-align: right;\n",
       "    }\n",
       "</style>\n",
       "<table border=\"1\" class=\"dataframe\">\n",
       "  <thead>\n",
       "    <tr style=\"text-align: right;\">\n",
       "      <th></th>\n",
       "      <th>longitude</th>\n",
       "      <th>latitude</th>\n",
       "      <th>t2m</th>\n",
       "    </tr>\n",
       "    <tr>\n",
       "      <th>time</th>\n",
       "      <th></th>\n",
       "      <th></th>\n",
       "      <th></th>\n",
       "    </tr>\n",
       "  </thead>\n",
       "  <tbody>\n",
       "    <tr>\n",
       "      <th>2010</th>\n",
       "      <td>18.5</td>\n",
       "      <td>-34.0</td>\n",
       "      <td>0.021759</td>\n",
       "    </tr>\n",
       "    <tr>\n",
       "      <th>2011</th>\n",
       "      <td>18.5</td>\n",
       "      <td>-34.0</td>\n",
       "      <td>-0.004272</td>\n",
       "    </tr>\n",
       "    <tr>\n",
       "      <th>2012</th>\n",
       "      <td>18.5</td>\n",
       "      <td>-34.0</td>\n",
       "      <td>0.101379</td>\n",
       "    </tr>\n",
       "    <tr>\n",
       "      <th>2013</th>\n",
       "      <td>18.5</td>\n",
       "      <td>-34.0</td>\n",
       "      <td>0.097870</td>\n",
       "    </tr>\n",
       "    <tr>\n",
       "      <th>2014</th>\n",
       "      <td>18.5</td>\n",
       "      <td>-34.0</td>\n",
       "      <td>0.425659</td>\n",
       "    </tr>\n",
       "    <tr>\n",
       "      <th>2015</th>\n",
       "      <td>18.5</td>\n",
       "      <td>-34.0</td>\n",
       "      <td>0.254791</td>\n",
       "    </tr>\n",
       "    <tr>\n",
       "      <th>2016</th>\n",
       "      <td>18.5</td>\n",
       "      <td>-34.0</td>\n",
       "      <td>0.465912</td>\n",
       "    </tr>\n",
       "    <tr>\n",
       "      <th>2017</th>\n",
       "      <td>18.5</td>\n",
       "      <td>-34.0</td>\n",
       "      <td>0.206299</td>\n",
       "    </tr>\n",
       "    <tr>\n",
       "      <th>2018</th>\n",
       "      <td>18.5</td>\n",
       "      <td>-34.0</td>\n",
       "      <td>0.316772</td>\n",
       "    </tr>\n",
       "    <tr>\n",
       "      <th>2019</th>\n",
       "      <td>18.5</td>\n",
       "      <td>-34.0</td>\n",
       "      <td>1.511566</td>\n",
       "    </tr>\n",
       "  </tbody>\n",
       "</table>\n",
       "</div>"
      ],
      "text/plain": [
       "      longitude  latitude       t2m\n",
       "time                               \n",
       "2010       18.5     -34.0  0.021759\n",
       "2011       18.5     -34.0 -0.004272\n",
       "2012       18.5     -34.0  0.101379\n",
       "2013       18.5     -34.0  0.097870\n",
       "2014       18.5     -34.0  0.425659\n",
       "2015       18.5     -34.0  0.254791\n",
       "2016       18.5     -34.0  0.465912\n",
       "2017       18.5     -34.0  0.206299\n",
       "2018       18.5     -34.0  0.316772\n",
       "2019       18.5     -34.0  1.511566"
      ]
     },
     "execution_count": 4,
     "metadata": {},
     "output_type": "execute_result"
    }
   ],
   "source": [
    "# calculate the monthly mean values\n",
    "anomaly = df.groupby([df.index.year]).mean()\n",
    "\n",
    "# subtract the long term mean from the monthly mean values for temperature and rainfall\n",
    "anomaly['t2m'] = anomaly['t2m'] - df['t2m'].mean()\n",
    "\n",
    "# display the first 10 rows of the result\n",
    "anomaly[-10:]"
   ]
  },
  {
   "cell_type": "markdown",
   "metadata": {},
   "source": [
    "### Create temperature stack to plot as stripes"
   ]
  },
  {
   "cell_type": "code",
   "execution_count": 5,
   "metadata": {
    "ExecuteTime": {
     "end_time": "2019-07-30T07:58:19.298214Z",
     "start_time": "2019-07-30T07:58:19.293332Z"
    }
   },
   "outputs": [
    {
     "name": "stdout",
     "output_type": "stream",
     "text": [
      "(41,)\n",
      "(2, 41)\n"
     ]
    }
   ],
   "source": [
    "temperature = anomaly['t2m'].values\n",
    "stack = np.stack((temperature, temperature))\n",
    "\n",
    "# print shapes to see what you've done\n",
    "print(temperature.shape)\n",
    "print(stack.shape)"
   ]
  },
  {
   "cell_type": "markdown",
   "metadata": {},
   "source": [
    "### Plot the warming stripes"
   ]
  },
  {
   "cell_type": "code",
   "execution_count": 6,
   "metadata": {
    "ExecuteTime": {
     "end_time": "2019-07-30T07:58:22.267185Z",
     "start_time": "2019-07-30T07:58:22.122859Z"
    },
    "scrolled": true
   },
   "outputs": [
    {
     "data": {
      "text/plain": [
       "Text(0.5, 1.0, 'ERA5 temperature anomaly: 1979-2018')"
      ]
     },
     "execution_count": 6,
     "metadata": {},
     "output_type": "execute_result"
    },
    {
     "data": {
      "image/png": "[encoded data removed]",
      "text/plain": [
       "<Figure size 576x2880 with 1 Axes>"
      ]
     },
     "metadata": {},
     "output_type": "display_data"
    }
   ],
   "source": [
    "vmin = temperature.min()\n",
    "vmax = temperature.max()\n",
    "## plotting\n",
    "###############\n",
    "plt.figure(figsize=(8,40))\n",
    "# img = plt.imshow(stack, cmap='RdBu_r', aspect=20, vmin=vmin, vmax=vmax)\n",
    "img = plt.imshow(stack, cmap='RdBu_r', aspect=10, )\n",
    "\n",
    "plt.gca().set_axis_off()\n",
    "plt.subplots_adjust(top = 1, bottom = 0, right = 1, left = 0, hspace = 0, wspace = 0)\n",
    "plt.margins(0,0)\n",
    "plt.gca().xaxis.set_major_locator(plt.NullLocator())\n",
    "plt.gca().yaxis.set_major_locator(plt.NullLocator())\n",
    "\n",
    "plt.title('ERA5 temperature anomaly: 1979-2018')\n",
    "\n",
    "#plt.savefig(\"stripes.png\", bbox_inches = 'tight', pad_inches = 0, dpi=400)"
   ]
  },
  {
   "cell_type": "markdown",
   "metadata": {},
   "source": [
    "### Exercise 2: Calculate the anomaly and plot the warming stripes for rainfall (variable name = tp) "
   ]
  },
  {
   "cell_type": "code",
   "execution_count": null,
   "metadata": {
    "ExecuteTime": {
     "end_time": "2019-07-17T15:06:15.375610Z",
     "start_time": "2019-07-17T15:06:15.372358Z"
    }
   },
   "outputs": [],
   "source": [
    "# Add you solution to Exercise 2"
   ]
  },
  {
   "cell_type": "markdown",
   "metadata": {},
   "source": [
    "## Answers to Exercises"
   ]
  },
  {
   "cell_type": "markdown",
   "metadata": {
    "ExecuteTime": {
     "end_time": "2019-07-17T14:47:49.439913Z",
     "start_time": "2019-07-17T14:47:49.437023Z"
    }
   },
   "source": [
    "### Exercise 1\n",
    "Add the below line of code before calculating the anomaly to remove the 4 months of data in 2019"
   ]
  },
  {
   "cell_type": "code",
   "execution_count": null,
   "metadata": {},
   "outputs": [],
   "source": [
    "df = df.drop(df[df.index.year >= 2019].index)"
   ]
  },
  {
   "cell_type": "markdown",
   "metadata": {},
   "source": [
    "### Exercise 2"
   ]
  },
  {
   "cell_type": "code",
   "execution_count": 8,
   "metadata": {
    "ExecuteTime": {
     "end_time": "2019-07-30T08:01:54.840514Z",
     "start_time": "2019-07-30T08:01:54.700279Z"
    }
   },
   "outputs": [
    {
     "data": {
      "text/plain": [
       "Text(0.5, 1.0, 'ERA5 total rainfall anomaly: 1979-2018')"
      ]
     },
     "execution_count": 8,
     "metadata": {},
     "output_type": "execute_result"
    },
    {
     "data": {
      "image/png": "[encoded data removed]",
      "text/plain": [
       "<Figure size 576x2880 with 1 Axes>"
      ]
     },
     "metadata": {},
     "output_type": "display_data"
    }
   ],
   "source": [
    "# open dataset for nearest user defined location\n",
    "ds = xr.open_dataset('data/ERA5_rainfall.nc').sel(longitude = lon_in, \n",
    "                                                              latitude = lat_in,\n",
    "                                                              method = 'nearest')\n",
    "# convert to pandas dataframe\n",
    "df = ds.to_dataframe()\n",
    "\n",
    "# calculate the monthly mean values\n",
    "anomaly = df.groupby([df.index.year]).mean()\n",
    "\n",
    "# calculate anomaly\n",
    "anomaly['tp'] = anomaly['tp'] - df['tp'].mean()\n",
    "rainfall = anomaly['tp'].values\n",
    "\n",
    "stack2 = np.stack((rainfall, rainfall))\n",
    "vmin = rainfall.min()\n",
    "vmax = rainfall.max()\n",
    "\n",
    "plt.figure(figsize=(8,40))\n",
    "# img = plt.imshow(stack2, cmap='RdBu_r', aspect=20, vmin=vmin, vmax=vmax)\n",
    "img = plt.imshow(stack2, cmap='RdBu_r', aspect=10, )\n",
    "\n",
    "plt.gca().set_axis_off()\n",
    "plt.subplots_adjust(top = 1, bottom = 0, right = 1, left = 0, hspace = 0, wspace = 0)\n",
    "plt.margins(0,0)\n",
    "plt.gca().xaxis.set_major_locator(plt.NullLocator())\n",
    "plt.gca().yaxis.set_major_locator(plt.NullLocator())\n",
    "\n",
    "plt.title('ERA5 total rainfall anomaly: 1979-2018')\n",
    "\n",
    "#plt.savefig(\"stripes.png\", bbox_inches = 'tight', pad_inches = 0, dpi=400)"
   ]
  },
  {
   "cell_type": "code",
   "execution_count": null,
   "metadata": {},
   "outputs": [],
   "source": []
  },
  {
   "cell_type": "code",
   "execution_count": null,
   "metadata": {},
   "outputs": [],
   "source": []
  }
 ],
 "metadata": {
  "kernelspec": {
   "display_name": "Python 3",
   "language": "python",
   "name": "python3"
  },
  "language_info": {
   "codemirror_mode": {
    "name": "ipython",
    "version": 3
   },
   "file_extension": ".py",
   "mimetype": "text/x-python",
   "name": "python",
   "nbconvert_exporter": "python",
   "pygments_lexer": "ipython3",
   "version": "3.7.4"
  }
 },
 "nbformat": 4,
 "nbformat_minor": 2
}
