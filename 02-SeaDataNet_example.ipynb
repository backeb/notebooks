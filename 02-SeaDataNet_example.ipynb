{
 "cells": [
  {
   "cell_type": "markdown",
   "metadata": {},
   "source": [
    "# Example Notebook for SeaDataNet Climatology data\n",
    "Author(s): [Bjorn Backeberg](mailto:backeb@gmail.com) (backeb) <br> \n",
    "Creation date: 01-Aug-2019 <br>\n",
    "Last updated:  01-Aug-2019 <br>\n",
    "\n",
    "---\n",
    "\n",
    "## Purpose\n",
    "1. Load SeaDataNet Climatology computed from the SeaDataNet V1.1 aggregated regional datasets. Data can be downloaded [here](https://www.seadatanet.org/Products#/search?from=1&to=20)\n",
    "2. Plot on map using cartopy"
   ]
  },
  {
   "cell_type": "markdown",
   "metadata": {},
   "source": [
    "### Import necessary libraries"
   ]
  },
  {
   "cell_type": "code",
   "execution_count": null,
   "metadata": {
    "ExecuteTime": {
     "end_time": "2019-08-06T07:43:59.490775Z",
     "start_time": "2019-08-06T07:43:58.101188Z"
    }
   },
   "outputs": [],
   "source": [
    "import xarray as xr\n",
    "import numpy as np\n",
    "import pandas as pd\n",
    "import cartopy.crs as ccrs\n",
    "import cartopy.feature as cfeature\n",
    "import matplotlib.pyplot as plt "
   ]
  },
  {
   "cell_type": "markdown",
   "metadata": {},
   "source": [
    "### Load dataset"
   ]
  },
  {
   "cell_type": "code",
   "execution_count": null,
   "metadata": {
    "ExecuteTime": {
     "end_time": "2019-08-06T07:44:00.639771Z",
     "start_time": "2019-08-06T07:44:00.589383Z"
    }
   },
   "outputs": [],
   "source": [
    "# open dataset for nearest user defined location\n",
    "ds = xr.open_dataset('data/SDN_Clim_BalticSea_Temperature.nc')\n",
    "\n",
    "# display some of the metadata\n",
    "print(ds)"
   ]
  },
  {
   "cell_type": "code",
   "execution_count": null,
   "metadata": {
    "ExecuteTime": {
     "end_time": "2019-08-06T07:44:03.896505Z",
     "start_time": "2019-08-06T07:44:03.807474Z"
    }
   },
   "outputs": [],
   "source": [
    "# load the data into variables for plotting\n",
    "lon = ds.lon.values\n",
    "lat = ds.lat.values\n",
    "depth = ds.depth.values\n",
    "time = ds.time.values\n",
    "temperature = ds.Temperature.values"
   ]
  },
  {
   "cell_type": "markdown",
   "metadata": {},
   "source": [
    "### Plot on map using cartopy"
   ]
  },
  {
   "cell_type": "code",
   "execution_count": null,
   "metadata": {
    "ExecuteTime": {
     "end_time": "2019-08-06T07:51:44.717147Z",
     "start_time": "2019-08-06T07:51:44.113905Z"
    }
   },
   "outputs": [],
   "source": [
    "tm = 6 # set time to plot\n",
    "dp = 19 # set depth to plot\n",
    "\n",
    "# instantiate the figure\n",
    "fig = plt.figure(figsize = (13, 10), dpi = 80) \n",
    "\n",
    "# here we do all the cartopy stuff\n",
    "ax = plt.axes(projection=ccrs.Mercator(central_longitude = np.median(lon).round()))\n",
    "# Set the map extent, making sure to specify the correct coordinate system\n",
    "# for geographical coordinates:\n",
    "ax.set_extent([lon.min(), lon.max(), lat.min(), lat.max()], crs=ccrs.PlateCarree())\n",
    "\n",
    "# plot\n",
    "cm = ax.pcolormesh(lon, lat, temperature[tm,dp,:,:], \n",
    "              shading = 'gourand', \n",
    "              cmap = plt.cm.Spectral_r, \n",
    "              transform = ccrs.PlateCarree())\n",
    "\n",
    "plt.colorbar(cm, orientation = 'vertical').set_label('[$^\\circ$C]')\n",
    "\n",
    "# add a coastline\n",
    "coastline = cfeature.GSHHSFeature(scale = 'intermediate', edgecolor = 'none', facecolor = 'grey')\n",
    "ax.add_feature(coastline)\n",
    "\n",
    "# add a title\n",
    "plt.title(\"SeaDataNet Temperature for \"\n",
    "          +str((pd.to_datetime(time[tm])).strftime('%B'))\n",
    "          +\", depth = \"+str(depth[dp])+\"m\")\n",
    "\n",
    "plt.show()"
   ]
  },
  {
   "cell_type": "markdown",
   "metadata": {},
   "source": [
    "# Exercise\n",
    "You have the following data from SeaDataNet in your folders:\n",
    "* SDN_Clim_Arctic_Salinity.nc\n",
    "* SDN_Clim_Arctic_Temperature.nc\n",
    "* SDN_Clim_BalticSea_Salinity.nc\n",
    "* SDN_Clim_BalticSea_Temperature.nc\n",
    "* SDN_Clim_BlackSea_Salinity.nc\n",
    "* SDN_Clim_BlackSea_Temperature.nc\n",
    "\n",
    "You have just plotted SDN_Clim_BalticSea_Temperature.nc\n",
    "\n",
    "Create plots for the other data in your folder"
   ]
  },
  {
   "cell_type": "code",
   "execution_count": null,
   "metadata": {},
   "outputs": [],
   "source": []
  }
 ],
 "metadata": {
  "kernelspec": {
   "display_name": "Python 3",
   "language": "python",
   "name": "python3"
  },
  "language_info": {
   "codemirror_mode": {
    "name": "ipython",
    "version": 3
   },
   "file_extension": ".py",
   "mimetype": "text/x-python",
   "name": "python",
   "nbconvert_exporter": "python",
   "pygments_lexer": "ipython3",
   "version": "3.7.1"
  }
 },
 "nbformat": 4,
 "nbformat_minor": 2
}
